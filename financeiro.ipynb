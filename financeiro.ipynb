{
 "cells": [
  {
   "cell_type": "code",
   "execution_count": 1,
   "metadata": {},
   "outputs": [],
   "source": [
    "import pandas as pd\n",
    "import matplotlib.pyplot as plt\n",
    "from datetime import datetime"
   ]
  },
  {
   "cell_type": "code",
   "execution_count": 2,
   "metadata": {},
   "outputs": [],
   "source": [
    "df1 = pd.read_csv(\"paypal.csv\", encoding='utf-8', delimiter=\",\")"
   ]
  },
  {
   "cell_type": "code",
   "execution_count": 3,
   "metadata": {},
   "outputs": [],
   "source": [
    "paypal = pd.DataFrame(df1, columns=['Data', ' Nome', ' Líquido'])"
   ]
  },
  {
   "cell_type": "code",
   "execution_count": 4,
   "metadata": {},
   "outputs": [],
   "source": [
    "df2 = pd.read_excel('mercadopago.xls', sheet_name='0')"
   ]
  },
  {
   "cell_type": "code",
   "execution_count": 5,
   "metadata": {},
   "outputs": [],
   "source": [
    "mercado_pago = pd.DataFrame(df2, columns=['Data de pagamento', 'Tipo de operação','Valor'])"
   ]
  },
  {
   "cell_type": "code",
   "execution_count": 6,
   "metadata": {},
   "outputs": [],
   "source": [
    "df3 = pd.read_csv(\"caixa.txt\", delimiter=\";\")"
   ]
  },
  {
   "cell_type": "code",
   "execution_count": 7,
   "metadata": {},
   "outputs": [],
   "source": [
    "conta = pd.DataFrame(df3, columns=['Data_Mov','Historico', 'Valor','Deb_Cred'])"
   ]
  },
  {
   "cell_type": "code",
   "execution_count": 8,
   "metadata": {},
   "outputs": [],
   "source": [
    "def format_data_paypal(data):\n",
    "    return datetime.strptime(data, \"%d-%m-%Y\").strftime(\"%d/%m/%Y\")"
   ]
  },
  {
   "cell_type": "code",
   "execution_count": 9,
   "metadata": {},
   "outputs": [],
   "source": [
    "def format_data_mercadopago(data):\n",
    "    return datetime.strptime(data, \"%d/%m/%Y %H:%M\").strftime(\"%d/%m/%Y\")"
   ]
  },
  {
   "cell_type": "code",
   "execution_count": 10,
   "metadata": {},
   "outputs": [],
   "source": [
    "def format_data_caixa(data):\n",
    "    return datetime.strptime(str(data),\"%Y%m%d\").strftime(\"%d/%m/%Y\")"
   ]
  },
  {
   "cell_type": "code",
   "execution_count": 11,
   "metadata": {},
   "outputs": [],
   "source": [
    "paypal['Data'] = paypal['Data'].apply(format_data_paypal)"
   ]
  },
  {
   "cell_type": "code",
   "execution_count": 12,
   "metadata": {},
   "outputs": [],
   "source": [
    "mercado_pago['Data de pagamento'] = mercado_pago['Data de pagamento'].apply(format_data_mercadopago)"
   ]
  },
  {
   "cell_type": "code",
   "execution_count": 13,
   "metadata": {},
   "outputs": [],
   "source": [
    "conta['Data_Mov'] = conta['Data_Mov'].apply(format_data_caixa)"
   ]
  },
  {
   "cell_type": "code",
   "execution_count": 14,
   "metadata": {},
   "outputs": [],
   "source": [
    "def format_valor_paypal(data):\n",
    "    return float(data.replace(\".\",\"\").replace(\",\",\".\"))"
   ]
  },
  {
   "cell_type": "code",
   "execution_count": 15,
   "metadata": {},
   "outputs": [],
   "source": [
    "paypal['valor'] =  paypal[' Líquido'].apply(format_valor_paypal)\n",
    "paypal.drop(' Líquido', axis=1, inplace=True)"
   ]
  },
  {
   "cell_type": "code",
   "execution_count": 16,
   "metadata": {},
   "outputs": [],
   "source": [
    "def format_valor_caixa(linha):\n",
    "    if linha['Deb_Cred'] == 'D' and linha['Valor'] is not 0:\n",
    "        return linha['Valor'] * -1\n",
    "    else:\n",
    "        return linha['Valor']"
   ]
  },
  {
   "cell_type": "code",
   "execution_count": 17,
   "metadata": {},
   "outputs": [],
   "source": [
    "conta['Valor'] = conta.apply(format_valor_caixa, axis=1)"
   ]
  },
  {
   "cell_type": "code",
   "execution_count": 18,
   "metadata": {},
   "outputs": [],
   "source": [
    "conta.drop('Deb_Cred',axis=1, inplace=True)"
   ]
  },
  {
   "cell_type": "code",
   "execution_count": 19,
   "metadata": {},
   "outputs": [],
   "source": [
    "paypal[\"origem\"] = \"paypal\"\n",
    "mercado_pago[\"origem\"] = \"mercado pago\"\n",
    "conta[\"origem\"] = \"caixa\""
   ]
  },
  {
   "cell_type": "code",
   "execution_count": 20,
   "metadata": {},
   "outputs": [
    {
     "data": {
      "text/plain": [
       "431.12"
      ]
     },
     "execution_count": 20,
     "metadata": {},
     "output_type": "execute_result"
    }
   ],
   "source": [
    "paypal['valor'].sum() + mercado_pago['Valor'].sum() + conta['Valor'].sum()"
   ]
  },
  {
   "cell_type": "code",
   "execution_count": 21,
   "metadata": {},
   "outputs": [],
   "source": [
    "paypal.rename(columns={' Nome': 'quem'}, inplace=True)\n",
    "mercado_pago.rename(columns={'Data de pagamento': 'Data', 'Valor':'valor','Tipo de operação':'quem'}, inplace=True)\n",
    "conta.rename(columns={'Data_Mov': 'Data', 'Valor':'valor','Historico':'quem'}, inplace=True)"
   ]
  },
  {
   "cell_type": "code",
   "execution_count": 22,
   "metadata": {},
   "outputs": [],
   "source": [
    "frames = [paypal,mercado_pago,conta]"
   ]
  },
  {
   "cell_type": "code",
   "execution_count": 23,
   "metadata": {},
   "outputs": [],
   "source": [
    "fechamento = pd.concat(frames)"
   ]
  },
  {
   "cell_type": "code",
   "execution_count": 24,
   "metadata": {},
   "outputs": [],
   "source": [
    "def format_valor_export(data):\n",
    "    return data.replace(\".\",\",\")"
   ]
  },
  {
   "cell_type": "code",
   "execution_count": 25,
   "metadata": {},
   "outputs": [],
   "source": [
    "fechamento.valor = fechamento.valor.astype(str);\n",
    "fechamento.valor = fechamento.valor.apply(format_valor_export)\n",
    "fechamento = fechamento[['Data', 'quem', 'origem', 'valor']]\n"
   ]
  },
  {
   "cell_type": "code",
   "execution_count": 26,
   "metadata": {},
   "outputs": [
    {
     "name": "stdout",
     "output_type": "stream",
     "text": [
      "          Data                 quem        origem    valor\n",
      "0   26/07/2018          DOADOR BLAH        paypal     47,0\n",
      "1   26/07/2018          DOADOR BLAH        paypal    37,48\n",
      "2   25/07/2018          DOADOR BLAH        paypal    94,61\n",
      "3   25/07/2018          DOADOR BLAH        paypal    18,44\n",
      "4   24/07/2018          DOADOR BLAH        paypal    94,61\n",
      "5   23/07/2018          DOADOR BLAH        paypal    13,68\n",
      "6   22/07/2018          DOADOR BLAH        paypal     47,0\n",
      "7   22/07/2018          DOADOR BLAH        paypal     8,92\n",
      "8   22/07/2018          DOADOR BLAH        paypal     47,0\n",
      "9   22/07/2018          DOADOR BLAH        paypal     9,87\n",
      "10  22/07/2018          DOADOR BLAH        paypal     47,0\n",
      "11  22/07/2018          DOADOR BLAH        paypal     8,92\n",
      "12  21/07/2018          DOADOR BLAH        paypal    94,61\n",
      "13  20/07/2018          DOADOR BLAH        paypal     93,0\n",
      "14  18/07/2018          DOADOR BLAH        paypal    94,61\n",
      "15  14/07/2018          DOADOR BLAH        paypal    94,61\n",
      "16  13/07/2018          DOADOR BLAH        paypal    94,61\n",
      "17  13/07/2018          DOADOR BLAH        paypal     23,2\n",
      "18  13/07/2018          DOADOR BLAH        paypal    56,53\n",
      "19  13/07/2018          DOADOR BLAH        paypal    18,44\n",
      "20  13/07/2018          DOADOR BLAH        paypal    18,44\n",
      "21  12/07/2018          DOADOR BLAH        paypal    37,48\n",
      "22  07/07/2018          DOADOR BLAH        paypal     8,92\n",
      "23  04/07/2018          DOADOR BLAH        paypal   -880,0\n",
      "24  03/07/2018          DOADOR BLAH        paypal    18,44\n",
      "25  03/07/2018          DOADOR BLAH        paypal    27,96\n",
      "0   31/07/2018            Pagamento  mercado pago    -16,9\n",
      "1   31/07/2018  Entrada de dinheiro  mercado pago     16,9\n",
      "2   26/07/2018            Pagamento  mercado pago   -82,17\n",
      "3   26/07/2018  Entrada de dinheiro  mercado pago    82,17\n",
      "..         ...                  ...           ...      ...\n",
      "25  06/07/2018            Pagamento  mercado pago  -151,88\n",
      "26  06/07/2018  Entrada de dinheiro  mercado pago   151,88\n",
      "27  03/07/2018            Pagamento  mercado pago    -96,5\n",
      "28  03/07/2018  Entrada de dinheiro  mercado pago     96,5\n",
      "29  03/07/2018            Pagamento  mercado pago   -109,5\n",
      "30  03/07/2018  Entrada de dinheiro  mercado pago    109,5\n",
      "0   01/07/2018           REM BASICA         caixa      0,0\n",
      "1   01/07/2018           CRED JUROS         caixa     0,19\n",
      "2   03/07/2018             CRED TEV         caixa     75,0\n",
      "3   03/07/2018           CP ELECTRO         caixa   -137,7\n",
      "4   08/07/2018           REM BASICA         caixa      0,0\n",
      "5   08/07/2018           CRED JUROS         caixa     2,89\n",
      "6   10/07/2018             CRED TEV         caixa    100,0\n",
      "7   10/07/2018             CRED TEV         caixa     65,0\n",
      "8   10/07/2018           CP ELECTRO         caixa  -201,69\n",
      "9   12/07/2018             CRED TEV         caixa    66,66\n",
      "10  12/07/2018           CP ELECTRO         caixa  -106,89\n",
      "11  15/07/2018           REM BASICA         caixa      0,0\n",
      "12  15/07/2018           CRED JUROS         caixa     0,45\n",
      "13  17/07/2018             CRED TEV         caixa     50,0\n",
      "14  17/07/2018             CRED TEV         caixa     30,0\n",
      "15  17/07/2018           CP ELECTRO         caixa   -73,89\n",
      "16  18/07/2018           REM BASICA         caixa      0,0\n",
      "17  18/07/2018           CRED JUROS         caixa     2,99\n",
      "18  20/07/2018             CRED TED         caixa   635,06\n",
      "19  20/07/2018             DOC ELET         caixa     20,0\n",
      "20  26/07/2018             PAG FONE         caixa    -75,8\n",
      "21  26/07/2018             PAG AGUA         caixa   -149,6\n",
      "22  28/07/2018           REM BASICA         caixa      0,0\n",
      "23  28/07/2018           CRED JUROS         caixa     3,07\n",
      "\n",
      "[81 rows x 4 columns]\n"
     ]
    }
   ],
   "source": [
    "print(fechamento)"
   ]
  },
  {
   "cell_type": "code",
   "execution_count": 27,
   "metadata": {},
   "outputs": [],
   "source": [
    "fechamento.to_csv('out.csv')"
   ]
  },
  {
   "cell_type": "code",
   "execution_count": 28,
   "metadata": {},
   "outputs": [],
   "source": [
    "def revert_formatting_valor(data):\n",
    "    return data.replace(\",\", \".\")"
   ]
  },
  {
   "cell_type": "code",
   "execution_count": 29,
   "metadata": {},
   "outputs": [],
   "source": [
    "fechamento.valor = fechamento.valor.apply(revert_formatting_valor)\n",
    "fechamento.valor = fechamento.valor.astype(float)"
   ]
  },
  {
   "cell_type": "code",
   "execution_count": 71,
   "metadata": {},
   "outputs": [
    {
     "name": "stdout",
     "output_type": "stream",
     "text": [
      "\t\t\t\t\t\tSomatório dos valores por origem\n"
     ]
    },
    {
     "data": {
      "image/png": "[encoded data removed]",
      "text/plain": [
       "<Figure size 1800x720 with 1 Axes>"
      ]
     },
     "metadata": {
      "needs_background": "light"
     },
     "output_type": "display_data"
    }
   ],
   "source": [
    "agrup = fechamento.groupby(['origem'])['valor'].sum()\n",
    "\n",
    "print(\"\\t\" * 6 + \"Somatório dos valores por origem\")\n",
    "\n",
    "valores_fechamento = agrup.plot(kind='bar', rot=0, figsize=(25,10), fontsize=18)\n",
    "\n",
    "for p in valores_fechamento.patches:\n",
    "    valores_fechamento.annotate(\"R$ %.2f\" % p.get_height(), (p.get_x() + p.get_width() / 2., p.get_height()), ha='center', va='center', xytext=(0, 10), textcoords='offset points', fontsize=18)"
   ]
  },
  {
   "cell_type": "code",
   "execution_count": 88,
   "metadata": {},
   "outputs": [
    {
     "name": "stdout",
     "output_type": "stream",
     "text": [
      "\t\t\tPorcentagem de contribuições por origem\n"
     ]
    },
    {
     "data": {
      "image/png": "[encoded data removed]",
      "text/plain": [
       "<Figure size 1800x720 with 1 Axes>"
      ]
     },
     "metadata": {},
     "output_type": "display_data"
    }
   ],
   "source": [
    "print(\"\\t\" * 3 + \"Porcentagem de contribuições por origem\")\n",
    "fechamento_somatorio = fechamento.origem.value_counts()\n",
    "fechamento_somatorio_plot = fechamento_somatorio.plot.pie(autopct='%.2f', fontsize=20, figsize=(25,10))"
   ]
  },
  {
   "cell_type": "code",
   "execution_count": 98,
   "metadata": {},
   "outputs": [
    {
     "data": {
      "text/plain": [
       "<pandas.core.groupby.groupby.SeriesGroupBy object at 0x7f907b929e10>"
      ]
     },
     "execution_count": 98,
     "metadata": {},
     "output_type": "execute_result"
    }
   ],
   "source": [
    "fechamento.groupby(['origem'])['valor']"
   ]
  }
 ],
 "metadata": {
  "kernelspec": {
   "display_name": "Python 3",
   "language": "python",
   "name": "python3"
  },
  "language_info": {
   "codemirror_mode": {
    "name": "ipython",
    "version": 3
   },
   "file_extension": ".py",
   "mimetype": "text/x-python",
   "name": "python",
   "nbconvert_exporter": "python",
   "pygments_lexer": "ipython3",
   "version": "3.7.0b3"
  }
 },
 "nbformat": 4,
 "nbformat_minor": 2
}
